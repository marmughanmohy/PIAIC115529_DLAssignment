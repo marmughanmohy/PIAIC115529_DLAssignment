{
 "cells": [
  {
   "cell_type": "code",
   "execution_count": 1,
   "id": "western-completion",
   "metadata": {
    "id": "naughty-occupation"
   },
   "outputs": [],
   "source": [
    "import pandas as pd\n",
    "import numpy as np\n",
    "from keras import regularizers"
   ]
  },
  {
   "cell_type": "markdown",
   "id": "charitable-amsterdam",
   "metadata": {},
   "source": [
    "# call data"
   ]
  },
  {
   "cell_type": "code",
   "execution_count": 2,
   "id": "intermediate-fence",
   "metadata": {
    "id": "extreme-globe"
   },
   "outputs": [],
   "source": [
    "df = pd.read_csv('compresive_strength_concrete.csv')"
   ]
  },
  {
   "cell_type": "markdown",
   "id": "worst-fifteen",
   "metadata": {},
   "source": [
    "# empty or nul values"
   ]
  },
  {
   "cell_type": "code",
   "execution_count": 3,
   "id": "contained-order",
   "metadata": {
    "id": "interstate-leadership",
    "scrolled": true
   },
   "outputs": [
    {
     "data": {
      "text/plain": [
       "(array([], dtype=int64), array([], dtype=int64))"
      ]
     },
     "metadata": {},
     "output_type": "display_data"
    },
    {
     "data": {
      "text/plain": [
       "(array([], dtype=int64),)"
      ]
     },
     "metadata": {},
     "output_type": "display_data"
    }
   ],
   "source": [
    "display(np.where(pd.isnull(df)))\n",
    "display(np.where(df.empty))"
   ]
  },
  {
   "cell_type": "markdown",
   "id": "local-james",
   "metadata": {},
   "source": [
    "# convert to float"
   ]
  },
  {
   "cell_type": "code",
   "execution_count": 4,
   "id": "electric-patrol",
   "metadata": {
    "colab": {
     "base_uri": "https://localhost:8080/"
    },
    "id": "casual-administration",
    "outputId": "389d942d-14b3-46fa-dd94-d5758d0a2c80"
   },
   "outputs": [
    {
     "data": {
      "text/plain": [
       "(1030, 9)"
      ]
     },
     "execution_count": 4,
     "metadata": {},
     "output_type": "execute_result"
    }
   ],
   "source": [
    "df.shape"
   ]
  },
  {
   "cell_type": "code",
   "execution_count": 5,
   "id": "previous-examination",
   "metadata": {
    "id": "acting-activation"
   },
   "outputs": [],
   "source": [
    "data=df.astype('float64')"
   ]
  },
  {
   "cell_type": "code",
   "execution_count": 6,
   "id": "second-private",
   "metadata": {
    "colab": {
     "base_uri": "https://localhost:8080/"
    },
    "id": "peripheral-vegetation",
    "outputId": "194ae583-27c3-45ba-9ce2-3d24891e372d",
    "scrolled": true
   },
   "outputs": [
    {
     "data": {
      "text/plain": [
       "Cement (component 1)(kg in a m^3 mixture)                float64\n",
       "Blast Furnace Slag (component 2)(kg in a m^3 mixture)    float64\n",
       "Fly Ash (component 3)(kg in a m^3 mixture)               float64\n",
       "Water  (component 4)(kg in a m^3 mixture)                float64\n",
       "Superplasticizer (component 5)(kg in a m^3 mixture)      float64\n",
       "Coarse Aggregate  (component 6)(kg in a m^3 mixture)     float64\n",
       "Fine Aggregate (component 7)(kg in a m^3 mixture)        float64\n",
       "Age (day)                                                float64\n",
       "Concrete compressive strength(MPa, megapascals)          float64\n",
       "dtype: object"
      ]
     },
     "execution_count": 6,
     "metadata": {},
     "output_type": "execute_result"
    }
   ],
   "source": [
    "data.dtypes"
   ]
  },
  {
   "cell_type": "markdown",
   "id": "challenging-mirror",
   "metadata": {},
   "source": [
    "# normalizing  and shuffling"
   ]
  },
  {
   "cell_type": "code",
   "execution_count": 7,
   "id": "prescription-sailing",
   "metadata": {
    "colab": {
     "base_uri": "https://localhost:8080/",
     "height": 538
    },
    "id": "aquatic-thesis",
    "outputId": "11c6a89f-a553-44ec-8d03-ac99268886bf"
   },
   "outputs": [
    {
     "data": {
      "text/plain": [
       "1028"
      ]
     },
     "metadata": {},
     "output_type": "display_data"
    },
    {
     "data": {
      "text/html": [
       "<div>\n",
       "<style scoped>\n",
       "    .dataframe tbody tr th:only-of-type {\n",
       "        vertical-align: middle;\n",
       "    }\n",
       "\n",
       "    .dataframe tbody tr th {\n",
       "        vertical-align: top;\n",
       "    }\n",
       "\n",
       "    .dataframe thead th {\n",
       "        text-align: right;\n",
       "    }\n",
       "</style>\n",
       "<table border=\"1\" class=\"dataframe\">\n",
       "  <thead>\n",
       "    <tr style=\"text-align: right;\">\n",
       "      <th></th>\n",
       "      <th>Cement (component 1)(kg in a m^3 mixture)</th>\n",
       "      <th>Blast Furnace Slag (component 2)(kg in a m^3 mixture)</th>\n",
       "      <th>Fly Ash (component 3)(kg in a m^3 mixture)</th>\n",
       "      <th>Water  (component 4)(kg in a m^3 mixture)</th>\n",
       "      <th>Superplasticizer (component 5)(kg in a m^3 mixture)</th>\n",
       "      <th>Coarse Aggregate  (component 6)(kg in a m^3 mixture)</th>\n",
       "      <th>Fine Aggregate (component 7)(kg in a m^3 mixture)</th>\n",
       "      <th>Age (day)</th>\n",
       "      <th>Concrete compressive strength(MPa, megapascals)</th>\n",
       "    </tr>\n",
       "  </thead>\n",
       "  <tbody>\n",
       "    <tr>\n",
       "      <th>727</th>\n",
       "      <td>0.476834</td>\n",
       "      <td>-0.856472</td>\n",
       "      <td>-0.846733</td>\n",
       "      <td>0.488555</td>\n",
       "      <td>-1.038638</td>\n",
       "      <td>0.669819</td>\n",
       "      <td>0.591443</td>\n",
       "      <td>-0.612034</td>\n",
       "      <td>-1.100098</td>\n",
       "    </tr>\n",
       "    <tr>\n",
       "      <th>607</th>\n",
       "      <td>-0.432202</td>\n",
       "      <td>-0.856472</td>\n",
       "      <td>-0.846733</td>\n",
       "      <td>0.582214</td>\n",
       "      <td>-1.038638</td>\n",
       "      <td>-0.063263</td>\n",
       "      <td>1.389687</td>\n",
       "      <td>-0.279597</td>\n",
       "      <td>-1.041436</td>\n",
       "    </tr>\n",
       "    <tr>\n",
       "      <th>235</th>\n",
       "      <td>-0.644629</td>\n",
       "      <td>0.280533</td>\n",
       "      <td>-0.463902</td>\n",
       "      <td>0.006215</td>\n",
       "      <td>0.082918</td>\n",
       "      <td>1.197123</td>\n",
       "      <td>0.148667</td>\n",
       "      <td>-0.501222</td>\n",
       "      <td>-1.076155</td>\n",
       "    </tr>\n",
       "    <tr>\n",
       "      <th>927</th>\n",
       "      <td>-1.188137</td>\n",
       "      <td>1.623844</td>\n",
       "      <td>1.528379</td>\n",
       "      <td>0.863189</td>\n",
       "      <td>0.467930</td>\n",
       "      <td>-1.979564</td>\n",
       "      <td>-0.867847</td>\n",
       "      <td>-0.279597</td>\n",
       "      <td>-0.165689</td>\n",
       "    </tr>\n",
       "    <tr>\n",
       "      <th>736</th>\n",
       "      <td>-0.413064</td>\n",
       "      <td>-0.856472</td>\n",
       "      <td>-0.846733</td>\n",
       "      <td>0.207580</td>\n",
       "      <td>-1.038638</td>\n",
       "      <td>1.878761</td>\n",
       "      <td>0.192321</td>\n",
       "      <td>-0.612034</td>\n",
       "      <td>-1.422742</td>\n",
       "    </tr>\n",
       "    <tr>\n",
       "      <th>...</th>\n",
       "      <td>...</td>\n",
       "      <td>...</td>\n",
       "      <td>...</td>\n",
       "      <td>...</td>\n",
       "      <td>...</td>\n",
       "      <td>...</td>\n",
       "      <td>...</td>\n",
       "      <td>...</td>\n",
       "      <td>...</td>\n",
       "    </tr>\n",
       "    <tr>\n",
       "      <th>943</th>\n",
       "      <td>-1.239808</td>\n",
       "      <td>-0.856472</td>\n",
       "      <td>0.901787</td>\n",
       "      <td>0.132654</td>\n",
       "      <td>0.283794</td>\n",
       "      <td>0.245403</td>\n",
       "      <td>0.527833</td>\n",
       "      <td>-0.279597</td>\n",
       "      <td>-1.414960</td>\n",
       "    </tr>\n",
       "    <tr>\n",
       "      <th>815</th>\n",
       "      <td>2.333180</td>\n",
       "      <td>-0.856472</td>\n",
       "      <td>-0.846733</td>\n",
       "      <td>0.348068</td>\n",
       "      <td>-1.038638</td>\n",
       "      <td>1.955927</td>\n",
       "      <td>-2.002850</td>\n",
       "      <td>-0.675355</td>\n",
       "      <td>-0.120794</td>\n",
       "    </tr>\n",
       "    <tr>\n",
       "      <th>986</th>\n",
       "      <td>-0.080070</td>\n",
       "      <td>0.361664</td>\n",
       "      <td>0.431452</td>\n",
       "      <td>1.317431</td>\n",
       "      <td>0.467930</td>\n",
       "      <td>-0.886372</td>\n",
       "      <td>-1.170930</td>\n",
       "      <td>-0.279597</td>\n",
       "      <td>0.080933</td>\n",
       "    </tr>\n",
       "    <tr>\n",
       "      <th>24</th>\n",
       "      <td>0.945704</td>\n",
       "      <td>-0.856472</td>\n",
       "      <td>-0.846733</td>\n",
       "      <td>2.174405</td>\n",
       "      <td>-1.038638</td>\n",
       "      <td>-0.526262</td>\n",
       "      <td>-1.291914</td>\n",
       "      <td>5.055221</td>\n",
       "      <td>0.999778</td>\n",
       "    </tr>\n",
       "    <tr>\n",
       "      <th>821</th>\n",
       "      <td>0.390714</td>\n",
       "      <td>-0.856472</td>\n",
       "      <td>-0.846733</td>\n",
       "      <td>1.003676</td>\n",
       "      <td>-1.038638</td>\n",
       "      <td>0.013904</td>\n",
       "      <td>0.329519</td>\n",
       "      <td>-0.501222</td>\n",
       "      <td>-0.900766</td>\n",
       "    </tr>\n",
       "  </tbody>\n",
       "</table>\n",
       "<p>1030 rows × 9 columns</p>\n",
       "</div>"
      ],
      "text/plain": [
       "     Cement (component 1)(kg in a m^3 mixture)  \\\n",
       "727                                   0.476834   \n",
       "607                                  -0.432202   \n",
       "235                                  -0.644629   \n",
       "927                                  -1.188137   \n",
       "736                                  -0.413064   \n",
       "..                                         ...   \n",
       "943                                  -1.239808   \n",
       "815                                   2.333180   \n",
       "986                                  -0.080070   \n",
       "24                                    0.945704   \n",
       "821                                   0.390714   \n",
       "\n",
       "     Blast Furnace Slag (component 2)(kg in a m^3 mixture)  \\\n",
       "727                                          -0.856472       \n",
       "607                                          -0.856472       \n",
       "235                                           0.280533       \n",
       "927                                           1.623844       \n",
       "736                                          -0.856472       \n",
       "..                                                 ...       \n",
       "943                                          -0.856472       \n",
       "815                                          -0.856472       \n",
       "986                                           0.361664       \n",
       "24                                           -0.856472       \n",
       "821                                          -0.856472       \n",
       "\n",
       "     Fly Ash (component 3)(kg in a m^3 mixture)  \\\n",
       "727                                   -0.846733   \n",
       "607                                   -0.846733   \n",
       "235                                   -0.463902   \n",
       "927                                    1.528379   \n",
       "736                                   -0.846733   \n",
       "..                                          ...   \n",
       "943                                    0.901787   \n",
       "815                                   -0.846733   \n",
       "986                                    0.431452   \n",
       "24                                    -0.846733   \n",
       "821                                   -0.846733   \n",
       "\n",
       "     Water  (component 4)(kg in a m^3 mixture)  \\\n",
       "727                                   0.488555   \n",
       "607                                   0.582214   \n",
       "235                                   0.006215   \n",
       "927                                   0.863189   \n",
       "736                                   0.207580   \n",
       "..                                         ...   \n",
       "943                                   0.132654   \n",
       "815                                   0.348068   \n",
       "986                                   1.317431   \n",
       "24                                    2.174405   \n",
       "821                                   1.003676   \n",
       "\n",
       "     Superplasticizer (component 5)(kg in a m^3 mixture)  \\\n",
       "727                                          -1.038638     \n",
       "607                                          -1.038638     \n",
       "235                                           0.082918     \n",
       "927                                           0.467930     \n",
       "736                                          -1.038638     \n",
       "..                                                 ...     \n",
       "943                                           0.283794     \n",
       "815                                          -1.038638     \n",
       "986                                           0.467930     \n",
       "24                                           -1.038638     \n",
       "821                                          -1.038638     \n",
       "\n",
       "     Coarse Aggregate  (component 6)(kg in a m^3 mixture)  \\\n",
       "727                                           0.669819      \n",
       "607                                          -0.063263      \n",
       "235                                           1.197123      \n",
       "927                                          -1.979564      \n",
       "736                                           1.878761      \n",
       "..                                                 ...      \n",
       "943                                           0.245403      \n",
       "815                                           1.955927      \n",
       "986                                          -0.886372      \n",
       "24                                           -0.526262      \n",
       "821                                           0.013904      \n",
       "\n",
       "     Fine Aggregate (component 7)(kg in a m^3 mixture)  Age (day)  \\\n",
       "727                                           0.591443  -0.612034   \n",
       "607                                           1.389687  -0.279597   \n",
       "235                                           0.148667  -0.501222   \n",
       "927                                          -0.867847  -0.279597   \n",
       "736                                           0.192321  -0.612034   \n",
       "..                                                 ...        ...   \n",
       "943                                           0.527833  -0.279597   \n",
       "815                                          -2.002850  -0.675355   \n",
       "986                                          -1.170930  -0.279597   \n",
       "24                                           -1.291914   5.055221   \n",
       "821                                           0.329519  -0.501222   \n",
       "\n",
       "     Concrete compressive strength(MPa, megapascals)   \n",
       "727                                         -1.100098  \n",
       "607                                         -1.041436  \n",
       "235                                         -1.076155  \n",
       "927                                         -0.165689  \n",
       "736                                         -1.422742  \n",
       "..                                                ...  \n",
       "943                                         -1.414960  \n",
       "815                                         -0.120794  \n",
       "986                                          0.080933  \n",
       "24                                           0.999778  \n",
       "821                                         -0.900766  \n",
       "\n",
       "[1030 rows x 9 columns]"
      ]
     },
     "metadata": {},
     "output_type": "display_data"
    }
   ],
   "source": [
    "mean=data.mean(axis=0)\n",
    "data= data-mean\n",
    "std=data.std(axis=0)\n",
    "data=data/std\n",
    "\n",
    "np.random.seed(77)\n",
    "shuf=np.random.randint(0,len(data),len(data)) \n",
    "display(shuf.max())\n",
    "data=data.iloc[shuf]\n",
    "display(data)"
   ]
  },
  {
   "cell_type": "markdown",
   "id": "voluntary-restaurant",
   "metadata": {},
   "source": [
    "# training and test data split"
   ]
  },
  {
   "cell_type": "code",
   "execution_count": 8,
   "id": "loved-shannon",
   "metadata": {
    "colab": {
     "base_uri": "https://localhost:8080/",
     "height": 1000
    },
    "id": "unnecessary-medicaid",
    "outputId": "c05b1098-2601-4904-b8fd-6eb6d0448a7d",
    "scrolled": true
   },
   "outputs": [
    {
     "data": {
      "text/html": [
       "<div>\n",
       "<style scoped>\n",
       "    .dataframe tbody tr th:only-of-type {\n",
       "        vertical-align: middle;\n",
       "    }\n",
       "\n",
       "    .dataframe tbody tr th {\n",
       "        vertical-align: top;\n",
       "    }\n",
       "\n",
       "    .dataframe thead th {\n",
       "        text-align: right;\n",
       "    }\n",
       "</style>\n",
       "<table border=\"1\" class=\"dataframe\">\n",
       "  <thead>\n",
       "    <tr style=\"text-align: right;\">\n",
       "      <th></th>\n",
       "      <th>Cement (component 1)(kg in a m^3 mixture)</th>\n",
       "      <th>Blast Furnace Slag (component 2)(kg in a m^3 mixture)</th>\n",
       "      <th>Fly Ash (component 3)(kg in a m^3 mixture)</th>\n",
       "      <th>Water  (component 4)(kg in a m^3 mixture)</th>\n",
       "      <th>Superplasticizer (component 5)(kg in a m^3 mixture)</th>\n",
       "      <th>Coarse Aggregate  (component 6)(kg in a m^3 mixture)</th>\n",
       "      <th>Fine Aggregate (component 7)(kg in a m^3 mixture)</th>\n",
       "      <th>Age (day)</th>\n",
       "      <th>Concrete compressive strength(MPa, megapascals)</th>\n",
       "    </tr>\n",
       "  </thead>\n",
       "  <tbody>\n",
       "    <tr>\n",
       "      <th>727</th>\n",
       "      <td>0.476834</td>\n",
       "      <td>-0.856472</td>\n",
       "      <td>-0.846733</td>\n",
       "      <td>0.488555</td>\n",
       "      <td>-1.038638</td>\n",
       "      <td>0.669819</td>\n",
       "      <td>0.591443</td>\n",
       "      <td>-0.612034</td>\n",
       "      <td>-1.100098</td>\n",
       "    </tr>\n",
       "    <tr>\n",
       "      <th>607</th>\n",
       "      <td>-0.432202</td>\n",
       "      <td>-0.856472</td>\n",
       "      <td>-0.846733</td>\n",
       "      <td>0.582214</td>\n",
       "      <td>-1.038638</td>\n",
       "      <td>-0.063263</td>\n",
       "      <td>1.389687</td>\n",
       "      <td>-0.279597</td>\n",
       "      <td>-1.041436</td>\n",
       "    </tr>\n",
       "    <tr>\n",
       "      <th>235</th>\n",
       "      <td>-0.644629</td>\n",
       "      <td>0.280533</td>\n",
       "      <td>-0.463902</td>\n",
       "      <td>0.006215</td>\n",
       "      <td>0.082918</td>\n",
       "      <td>1.197123</td>\n",
       "      <td>0.148667</td>\n",
       "      <td>-0.501222</td>\n",
       "      <td>-1.076155</td>\n",
       "    </tr>\n",
       "    <tr>\n",
       "      <th>927</th>\n",
       "      <td>-1.188137</td>\n",
       "      <td>1.623844</td>\n",
       "      <td>1.528379</td>\n",
       "      <td>0.863189</td>\n",
       "      <td>0.467930</td>\n",
       "      <td>-1.979564</td>\n",
       "      <td>-0.867847</td>\n",
       "      <td>-0.279597</td>\n",
       "      <td>-0.165689</td>\n",
       "    </tr>\n",
       "    <tr>\n",
       "      <th>736</th>\n",
       "      <td>-0.413064</td>\n",
       "      <td>-0.856472</td>\n",
       "      <td>-0.846733</td>\n",
       "      <td>0.207580</td>\n",
       "      <td>-1.038638</td>\n",
       "      <td>1.878761</td>\n",
       "      <td>0.192321</td>\n",
       "      <td>-0.612034</td>\n",
       "      <td>-1.422742</td>\n",
       "    </tr>\n",
       "    <tr>\n",
       "      <th>...</th>\n",
       "      <td>...</td>\n",
       "      <td>...</td>\n",
       "      <td>...</td>\n",
       "      <td>...</td>\n",
       "      <td>...</td>\n",
       "      <td>...</td>\n",
       "      <td>...</td>\n",
       "      <td>...</td>\n",
       "      <td>...</td>\n",
       "    </tr>\n",
       "    <tr>\n",
       "      <th>880</th>\n",
       "      <td>-1.235981</td>\n",
       "      <td>-0.856472</td>\n",
       "      <td>0.903349</td>\n",
       "      <td>0.113922</td>\n",
       "      <td>0.300534</td>\n",
       "      <td>0.245403</td>\n",
       "      <td>0.529080</td>\n",
       "      <td>-0.279597</td>\n",
       "      <td>-1.414960</td>\n",
       "    </tr>\n",
       "    <tr>\n",
       "      <th>25</th>\n",
       "      <td>0.945704</td>\n",
       "      <td>-0.856472</td>\n",
       "      <td>-0.846733</td>\n",
       "      <td>2.174405</td>\n",
       "      <td>-1.038638</td>\n",
       "      <td>-0.526262</td>\n",
       "      <td>-1.291914</td>\n",
       "      <td>3.551340</td>\n",
       "      <td>1.046469</td>\n",
       "    </tr>\n",
       "    <tr>\n",
       "      <th>118</th>\n",
       "      <td>1.376300</td>\n",
       "      <td>0.375573</td>\n",
       "      <td>-0.846733</td>\n",
       "      <td>-1.314367</td>\n",
       "      <td>1.723404</td>\n",
       "      <td>-1.553862</td>\n",
       "      <td>1.415879</td>\n",
       "      <td>-0.279597</td>\n",
       "      <td>1.464888</td>\n",
       "    </tr>\n",
       "    <tr>\n",
       "      <th>564</th>\n",
       "      <td>-1.170913</td>\n",
       "      <td>1.904328</td>\n",
       "      <td>-0.846733</td>\n",
       "      <td>0.193532</td>\n",
       "      <td>-1.038638</td>\n",
       "      <td>0.870452</td>\n",
       "      <td>-0.489928</td>\n",
       "      <td>-0.279597</td>\n",
       "      <td>-0.882808</td>\n",
       "    </tr>\n",
       "    <tr>\n",
       "      <th>111</th>\n",
       "      <td>0.779207</td>\n",
       "      <td>1.334087</td>\n",
       "      <td>-0.846733</td>\n",
       "      <td>-0.780515</td>\n",
       "      <td>0.903161</td>\n",
       "      <td>-0.362926</td>\n",
       "      <td>-0.221768</td>\n",
       "      <td>-0.612034</td>\n",
       "      <td>1.202104</td>\n",
       "    </tr>\n",
       "  </tbody>\n",
       "</table>\n",
       "<p>825 rows × 9 columns</p>\n",
       "</div>"
      ],
      "text/plain": [
       "     Cement (component 1)(kg in a m^3 mixture)  \\\n",
       "727                                   0.476834   \n",
       "607                                  -0.432202   \n",
       "235                                  -0.644629   \n",
       "927                                  -1.188137   \n",
       "736                                  -0.413064   \n",
       "..                                         ...   \n",
       "880                                  -1.235981   \n",
       "25                                    0.945704   \n",
       "118                                   1.376300   \n",
       "564                                  -1.170913   \n",
       "111                                   0.779207   \n",
       "\n",
       "     Blast Furnace Slag (component 2)(kg in a m^3 mixture)  \\\n",
       "727                                          -0.856472       \n",
       "607                                          -0.856472       \n",
       "235                                           0.280533       \n",
       "927                                           1.623844       \n",
       "736                                          -0.856472       \n",
       "..                                                 ...       \n",
       "880                                          -0.856472       \n",
       "25                                           -0.856472       \n",
       "118                                           0.375573       \n",
       "564                                           1.904328       \n",
       "111                                           1.334087       \n",
       "\n",
       "     Fly Ash (component 3)(kg in a m^3 mixture)  \\\n",
       "727                                   -0.846733   \n",
       "607                                   -0.846733   \n",
       "235                                   -0.463902   \n",
       "927                                    1.528379   \n",
       "736                                   -0.846733   \n",
       "..                                          ...   \n",
       "880                                    0.903349   \n",
       "25                                    -0.846733   \n",
       "118                                   -0.846733   \n",
       "564                                   -0.846733   \n",
       "111                                   -0.846733   \n",
       "\n",
       "     Water  (component 4)(kg in a m^3 mixture)  \\\n",
       "727                                   0.488555   \n",
       "607                                   0.582214   \n",
       "235                                   0.006215   \n",
       "927                                   0.863189   \n",
       "736                                   0.207580   \n",
       "..                                         ...   \n",
       "880                                   0.113922   \n",
       "25                                    2.174405   \n",
       "118                                  -1.314367   \n",
       "564                                   0.193532   \n",
       "111                                  -0.780515   \n",
       "\n",
       "     Superplasticizer (component 5)(kg in a m^3 mixture)  \\\n",
       "727                                          -1.038638     \n",
       "607                                          -1.038638     \n",
       "235                                           0.082918     \n",
       "927                                           0.467930     \n",
       "736                                          -1.038638     \n",
       "..                                                 ...     \n",
       "880                                           0.300534     \n",
       "25                                           -1.038638     \n",
       "118                                           1.723404     \n",
       "564                                          -1.038638     \n",
       "111                                           0.903161     \n",
       "\n",
       "     Coarse Aggregate  (component 6)(kg in a m^3 mixture)  \\\n",
       "727                                           0.669819      \n",
       "607                                          -0.063263      \n",
       "235                                           1.197123      \n",
       "927                                          -1.979564      \n",
       "736                                           1.878761      \n",
       "..                                                 ...      \n",
       "880                                           0.245403      \n",
       "25                                           -0.526262      \n",
       "118                                          -1.553862      \n",
       "564                                           0.870452      \n",
       "111                                          -0.362926      \n",
       "\n",
       "     Fine Aggregate (component 7)(kg in a m^3 mixture)  Age (day)  \\\n",
       "727                                           0.591443  -0.612034   \n",
       "607                                           1.389687  -0.279597   \n",
       "235                                           0.148667  -0.501222   \n",
       "927                                          -0.867847  -0.279597   \n",
       "736                                           0.192321  -0.612034   \n",
       "..                                                 ...        ...   \n",
       "880                                           0.529080  -0.279597   \n",
       "25                                           -1.291914   3.551340   \n",
       "118                                           1.415879  -0.279597   \n",
       "564                                          -0.489928  -0.279597   \n",
       "111                                          -0.221768  -0.612034   \n",
       "\n",
       "     Concrete compressive strength(MPa, megapascals)   \n",
       "727                                         -1.100098  \n",
       "607                                         -1.041436  \n",
       "235                                         -1.076155  \n",
       "927                                         -0.165689  \n",
       "736                                         -1.422742  \n",
       "..                                                ...  \n",
       "880                                         -1.414960  \n",
       "25                                           1.046469  \n",
       "118                                          1.464888  \n",
       "564                                         -0.882808  \n",
       "111                                          1.202104  \n",
       "\n",
       "[825 rows x 9 columns]"
      ]
     },
     "metadata": {},
     "output_type": "display_data"
    },
    {
     "data": {
      "text/html": [
       "<div>\n",
       "<style scoped>\n",
       "    .dataframe tbody tr th:only-of-type {\n",
       "        vertical-align: middle;\n",
       "    }\n",
       "\n",
       "    .dataframe tbody tr th {\n",
       "        vertical-align: top;\n",
       "    }\n",
       "\n",
       "    .dataframe thead th {\n",
       "        text-align: right;\n",
       "    }\n",
       "</style>\n",
       "<table border=\"1\" class=\"dataframe\">\n",
       "  <thead>\n",
       "    <tr style=\"text-align: right;\">\n",
       "      <th></th>\n",
       "      <th>Cement (component 1)(kg in a m^3 mixture)</th>\n",
       "      <th>Blast Furnace Slag (component 2)(kg in a m^3 mixture)</th>\n",
       "      <th>Fly Ash (component 3)(kg in a m^3 mixture)</th>\n",
       "      <th>Water  (component 4)(kg in a m^3 mixture)</th>\n",
       "      <th>Superplasticizer (component 5)(kg in a m^3 mixture)</th>\n",
       "      <th>Coarse Aggregate  (component 6)(kg in a m^3 mixture)</th>\n",
       "      <th>Fine Aggregate (component 7)(kg in a m^3 mixture)</th>\n",
       "      <th>Age (day)</th>\n",
       "      <th>Concrete compressive strength(MPa, megapascals)</th>\n",
       "    </tr>\n",
       "  </thead>\n",
       "  <tbody>\n",
       "    <tr>\n",
       "      <th>334</th>\n",
       "      <td>-0.058062</td>\n",
       "      <td>-0.856472</td>\n",
       "      <td>1.050231</td>\n",
       "      <td>-1.033392</td>\n",
       "      <td>0.618587</td>\n",
       "      <td>1.037646</td>\n",
       "      <td>0.048886</td>\n",
       "      <td>-0.675355</td>\n",
       "      <td>-0.719391</td>\n",
       "    </tr>\n",
       "    <tr>\n",
       "      <th>357</th>\n",
       "      <td>-0.037968</td>\n",
       "      <td>0.277056</td>\n",
       "      <td>-0.463902</td>\n",
       "      <td>-0.977197</td>\n",
       "      <td>0.836202</td>\n",
       "      <td>1.141821</td>\n",
       "      <td>0.111249</td>\n",
       "      <td>0.163652</td>\n",
       "      <td>1.855771</td>\n",
       "    </tr>\n",
       "    <tr>\n",
       "      <th>868</th>\n",
       "      <td>-0.049450</td>\n",
       "      <td>0.487998</td>\n",
       "      <td>0.559583</td>\n",
       "      <td>-0.073394</td>\n",
       "      <td>0.467930</td>\n",
       "      <td>-1.323649</td>\n",
       "      <td>-0.069603</td>\n",
       "      <td>-0.279597</td>\n",
       "      <td>0.506535</td>\n",
       "    </tr>\n",
       "    <tr>\n",
       "      <th>240</th>\n",
       "      <td>-0.492485</td>\n",
       "      <td>-0.856472</td>\n",
       "      <td>1.000229</td>\n",
       "      <td>0.638409</td>\n",
       "      <td>-0.017520</td>\n",
       "      <td>0.709688</td>\n",
       "      <td>-0.199318</td>\n",
       "      <td>-0.501222</td>\n",
       "      <td>-0.807983</td>\n",
       "    </tr>\n",
       "    <tr>\n",
       "      <th>897</th>\n",
       "      <td>0.027100</td>\n",
       "      <td>0.534359</td>\n",
       "      <td>-0.846733</td>\n",
       "      <td>-0.635344</td>\n",
       "      <td>0.133137</td>\n",
       "      <td>-0.037541</td>\n",
       "      <td>0.254684</td>\n",
       "      <td>-0.279597</td>\n",
       "      <td>0.306005</td>\n",
       "    </tr>\n",
       "    <tr>\n",
       "      <th>...</th>\n",
       "      <td>...</td>\n",
       "      <td>...</td>\n",
       "      <td>...</td>\n",
       "      <td>...</td>\n",
       "      <td>...</td>\n",
       "      <td>...</td>\n",
       "      <td>...</td>\n",
       "      <td>...</td>\n",
       "      <td>...</td>\n",
       "    </tr>\n",
       "    <tr>\n",
       "      <th>943</th>\n",
       "      <td>-1.239808</td>\n",
       "      <td>-0.856472</td>\n",
       "      <td>0.901787</td>\n",
       "      <td>0.132654</td>\n",
       "      <td>0.283794</td>\n",
       "      <td>0.245403</td>\n",
       "      <td>0.527833</td>\n",
       "      <td>-0.279597</td>\n",
       "      <td>-1.414960</td>\n",
       "    </tr>\n",
       "    <tr>\n",
       "      <th>815</th>\n",
       "      <td>2.333180</td>\n",
       "      <td>-0.856472</td>\n",
       "      <td>-0.846733</td>\n",
       "      <td>0.348068</td>\n",
       "      <td>-1.038638</td>\n",
       "      <td>1.955927</td>\n",
       "      <td>-2.002850</td>\n",
       "      <td>-0.675355</td>\n",
       "      <td>-0.120794</td>\n",
       "    </tr>\n",
       "    <tr>\n",
       "      <th>986</th>\n",
       "      <td>-0.080070</td>\n",
       "      <td>0.361664</td>\n",
       "      <td>0.431452</td>\n",
       "      <td>1.317431</td>\n",
       "      <td>0.467930</td>\n",
       "      <td>-0.886372</td>\n",
       "      <td>-1.170930</td>\n",
       "      <td>-0.279597</td>\n",
       "      <td>0.080933</td>\n",
       "    </tr>\n",
       "    <tr>\n",
       "      <th>24</th>\n",
       "      <td>0.945704</td>\n",
       "      <td>-0.856472</td>\n",
       "      <td>-0.846733</td>\n",
       "      <td>2.174405</td>\n",
       "      <td>-1.038638</td>\n",
       "      <td>-0.526262</td>\n",
       "      <td>-1.291914</td>\n",
       "      <td>5.055221</td>\n",
       "      <td>0.999778</td>\n",
       "    </tr>\n",
       "    <tr>\n",
       "      <th>821</th>\n",
       "      <td>0.390714</td>\n",
       "      <td>-0.856472</td>\n",
       "      <td>-0.846733</td>\n",
       "      <td>1.003676</td>\n",
       "      <td>-1.038638</td>\n",
       "      <td>0.013904</td>\n",
       "      <td>0.329519</td>\n",
       "      <td>-0.501222</td>\n",
       "      <td>-0.900766</td>\n",
       "    </tr>\n",
       "  </tbody>\n",
       "</table>\n",
       "<p>204 rows × 9 columns</p>\n",
       "</div>"
      ],
      "text/plain": [
       "     Cement (component 1)(kg in a m^3 mixture)  \\\n",
       "334                                  -0.058062   \n",
       "357                                  -0.037968   \n",
       "868                                  -0.049450   \n",
       "240                                  -0.492485   \n",
       "897                                   0.027100   \n",
       "..                                         ...   \n",
       "943                                  -1.239808   \n",
       "815                                   2.333180   \n",
       "986                                  -0.080070   \n",
       "24                                    0.945704   \n",
       "821                                   0.390714   \n",
       "\n",
       "     Blast Furnace Slag (component 2)(kg in a m^3 mixture)  \\\n",
       "334                                          -0.856472       \n",
       "357                                           0.277056       \n",
       "868                                           0.487998       \n",
       "240                                          -0.856472       \n",
       "897                                           0.534359       \n",
       "..                                                 ...       \n",
       "943                                          -0.856472       \n",
       "815                                          -0.856472       \n",
       "986                                           0.361664       \n",
       "24                                           -0.856472       \n",
       "821                                          -0.856472       \n",
       "\n",
       "     Fly Ash (component 3)(kg in a m^3 mixture)  \\\n",
       "334                                    1.050231   \n",
       "357                                   -0.463902   \n",
       "868                                    0.559583   \n",
       "240                                    1.000229   \n",
       "897                                   -0.846733   \n",
       "..                                          ...   \n",
       "943                                    0.901787   \n",
       "815                                   -0.846733   \n",
       "986                                    0.431452   \n",
       "24                                    -0.846733   \n",
       "821                                   -0.846733   \n",
       "\n",
       "     Water  (component 4)(kg in a m^3 mixture)  \\\n",
       "334                                  -1.033392   \n",
       "357                                  -0.977197   \n",
       "868                                  -0.073394   \n",
       "240                                   0.638409   \n",
       "897                                  -0.635344   \n",
       "..                                         ...   \n",
       "943                                   0.132654   \n",
       "815                                   0.348068   \n",
       "986                                   1.317431   \n",
       "24                                    2.174405   \n",
       "821                                   1.003676   \n",
       "\n",
       "     Superplasticizer (component 5)(kg in a m^3 mixture)  \\\n",
       "334                                           0.618587     \n",
       "357                                           0.836202     \n",
       "868                                           0.467930     \n",
       "240                                          -0.017520     \n",
       "897                                           0.133137     \n",
       "..                                                 ...     \n",
       "943                                           0.283794     \n",
       "815                                          -1.038638     \n",
       "986                                           0.467930     \n",
       "24                                           -1.038638     \n",
       "821                                          -1.038638     \n",
       "\n",
       "     Coarse Aggregate  (component 6)(kg in a m^3 mixture)  \\\n",
       "334                                           1.037646      \n",
       "357                                           1.141821      \n",
       "868                                          -1.323649      \n",
       "240                                           0.709688      \n",
       "897                                          -0.037541      \n",
       "..                                                 ...      \n",
       "943                                           0.245403      \n",
       "815                                           1.955927      \n",
       "986                                          -0.886372      \n",
       "24                                           -0.526262      \n",
       "821                                           0.013904      \n",
       "\n",
       "     Fine Aggregate (component 7)(kg in a m^3 mixture)  Age (day)  \\\n",
       "334                                           0.048886  -0.675355   \n",
       "357                                           0.111249   0.163652   \n",
       "868                                          -0.069603  -0.279597   \n",
       "240                                          -0.199318  -0.501222   \n",
       "897                                           0.254684  -0.279597   \n",
       "..                                                 ...        ...   \n",
       "943                                           0.527833  -0.279597   \n",
       "815                                          -2.002850  -0.675355   \n",
       "986                                          -1.170930  -0.279597   \n",
       "24                                           -1.291914   5.055221   \n",
       "821                                           0.329519  -0.501222   \n",
       "\n",
       "     Concrete compressive strength(MPa, megapascals)   \n",
       "334                                         -0.719391  \n",
       "357                                          1.855771  \n",
       "868                                          0.506535  \n",
       "240                                         -0.807983  \n",
       "897                                          0.306005  \n",
       "..                                                ...  \n",
       "943                                         -1.414960  \n",
       "815                                         -0.120794  \n",
       "986                                          0.080933  \n",
       "24                                           0.999778  \n",
       "821                                         -0.900766  \n",
       "\n",
       "[204 rows x 9 columns]"
      ]
     },
     "metadata": {},
     "output_type": "display_data"
    }
   ],
   "source": [
    "train_data=data[0:825] \n",
    "display(train_data)\n",
    "train_targets=train_data.iloc[0:825,[8]] \n",
    "train_data=train_data.drop(['Concrete compressive strength(MPa, megapascals) '],axis=1)\n",
    "\n",
    "test_data=data[826:1030]\n",
    "test_targets=test_data.iloc[0:204,[8]]\n",
    "display(test_data)\n",
    "test_data=test_data.drop(['Concrete compressive strength(MPa, megapascals) '],axis=1)"
   ]
  },
  {
   "cell_type": "markdown",
   "id": "brilliant-graphics",
   "metadata": {},
   "source": [
    "# Network initialization"
   ]
  },
  {
   "cell_type": "code",
   "execution_count": 9,
   "id": "alternate-assistant",
   "metadata": {
    "id": "illegal-silly"
   },
   "outputs": [],
   "source": [
    "from keras import models\n",
    "from keras import layers\n",
    "from keras import regularizers\n",
    "def build_model():\n",
    "    model = models.Sequential()\n",
    "    model.add(layers.Dense(10, activation='relu',kernel_regularizer=regularizers.l2(0.001),input_shape=(train_data.shape[1],)))\n",
    "    model.add(layers.Dense(9, activation='relu',kernel_regularizer=regularizers.l2(0.001)))\n",
    "    model.add(layers.Dense(8, activation='relu',kernel_regularizer=regularizers.l2(0.001)))\n",
    "    model.add(layers.Dense(1))\n",
    "    model.compile(optimizer='rmsprop', loss='mse', metrics=['mae'])\n",
    "    return model"
   ]
  },
  {
   "cell_type": "markdown",
   "id": "needed-subscription",
   "metadata": {},
   "source": [
    "# K-fold validation"
   ]
  },
  {
   "cell_type": "code",
   "execution_count": 10,
   "id": "scenic-directive",
   "metadata": {
    "colab": {
     "base_uri": "https://localhost:8080/"
    },
    "id": "soviet-attitude",
    "outputId": "cadc23d1-555a-4f06-e2b4-ee37deff1921",
    "scrolled": true
   },
   "outputs": [
    {
     "name": "stdout",
     "output_type": "stream",
     "text": [
      "processing fold # 0\n",
      "processing fold # 1\n",
      "processing fold # 2\n",
      "processing fold # 3\n"
     ]
    }
   ],
   "source": [
    "k = 4\n",
    "num_val_samples = len(train_data) // k\n",
    "num_epochs = 200\n",
    "all_mae_histories = []\n",
    "for i in range(k):\n",
    "    print('processing fold #', i)\n",
    "    val_data = train_data[i * num_val_samples: (i + 1) * num_val_samples]\n",
    "    val_targets = train_targets[i * num_val_samples: (i + 1) * num_val_samples]\n",
    "    partial_train_data = np.concatenate([train_data[:i * num_val_samples],train_data[(i + 1) * num_val_samples:]],axis=0)\n",
    "    partial_train_targets = np.concatenate([train_targets[:i * num_val_samples],train_targets[(i + 1) * num_val_samples:]],axis=0)\n",
    "    model = build_model()\n",
    "    history = model.fit(partial_train_data, partial_train_targets,validation_data=(val_data, val_targets),epochs=num_epochs, batch_size=10, verbose=0)\n",
    "    mae_history = history.history['mae']\n",
    "    all_mae_histories.append(mae_history)"
   ]
  },
  {
   "cell_type": "code",
   "execution_count": 11,
   "id": "flying-bandwidth",
   "metadata": {
    "id": "continued-jacob"
   },
   "outputs": [],
   "source": [
    "average_mae_history = [np.mean([x[i] for x in all_mae_histories]) for i in range(num_epochs)]"
   ]
  },
  {
   "cell_type": "markdown",
   "id": "opposite-queensland",
   "metadata": {},
   "source": [
    "# mean absolute error with epochs"
   ]
  },
  {
   "cell_type": "code",
   "execution_count": 12,
   "id": "stuck-muscle",
   "metadata": {
    "colab": {
     "base_uri": "https://localhost:8080/",
     "height": 279
    },
    "id": "upset-million",
    "outputId": "1056e69d-ee46-4f5f-c7d3-5188e851fbce",
    "scrolled": false
   },
   "outputs": [
    {
     "data": {
      "image/png": "[encoded data removed]",
      "text/plain": [
       "<Figure size 432x288 with 1 Axes>"
      ]
     },
     "metadata": {
      "needs_background": "light"
     },
     "output_type": "display_data"
    }
   ],
   "source": [
    "import matplotlib.pyplot as plt\n",
    "plt.plot(range(1, len(average_mae_history) + 1), average_mae_history)\n",
    "plt.xlabel('Epochs')\n",
    "plt.ylabel('Validation MAE')\n",
    "plt.show()"
   ]
  },
  {
   "cell_type": "markdown",
   "id": "blind-masters",
   "metadata": {},
   "source": [
    "# training and validation loss"
   ]
  },
  {
   "cell_type": "code",
   "execution_count": 13,
   "id": "civic-rescue",
   "metadata": {
    "colab": {
     "base_uri": "https://localhost:8080/",
     "height": 295
    },
    "id": "JxxcKRO6V144",
    "outputId": "fd24ecb1-9530-4c0d-e2ae-54a04ce6a306"
   },
   "outputs": [
    {
     "data": {
      "image/png": "[encoded data removed]",
      "text/plain": [
       "<Figure size 432x288 with 1 Axes>"
      ]
     },
     "metadata": {
      "needs_background": "light"
     },
     "output_type": "display_data"
    }
   ],
   "source": [
    "\n",
    "history_dict = history.history\n",
    "loss_values = history_dict['loss']\n",
    "val_loss_values = history_dict['val_loss']\n",
    "epochs = range(1, 200 + 1)\n",
    "plt.plot(epochs, loss_values, 'bo', label='Training loss')\n",
    "plt.plot(epochs, val_loss_values, 'b', label='Validation loss')\n",
    "plt.title('Training and validation loss')\n",
    "plt.xlabel('Epochs')\n",
    "plt.ylabel('Loss')\n",
    "plt.legend()\n",
    "plt.show()"
   ]
  },
  {
   "cell_type": "markdown",
   "id": "placed-range",
   "metadata": {},
   "source": [
    "# rebuild model using all data set"
   ]
  },
  {
   "cell_type": "code",
   "execution_count": 14,
   "id": "elect-anthony",
   "metadata": {
    "colab": {
     "base_uri": "https://localhost:8080/"
    },
    "id": "multiple-chapel",
    "outputId": "7e6ec073-09c9-4c67-d2cc-3302a12e8a89"
   },
   "outputs": [
    {
     "name": "stdout",
     "output_type": "stream",
     "text": [
      "7/7 [==============================] - 0s 2ms/step - loss: 0.1215 - mae: 0.2298\n"
     ]
    }
   ],
   "source": [
    "model = build_model()\n",
    "model.fit(train_data, train_targets,\n",
    "epochs=200, batch_size=10, verbose=0)\n",
    "test_mse_score, test_mae_score = model.evaluate(test_data, test_targets)"
   ]
  },
  {
   "cell_type": "markdown",
   "id": "compatible-chorus",
   "metadata": {},
   "source": [
    "# testing accuracy of data by taking sample value"
   ]
  },
  {
   "cell_type": "code",
   "execution_count": 15,
   "id": "sought-bishop",
   "metadata": {
    "colab": {
     "base_uri": "https://localhost:8080/",
     "height": 204
    },
    "id": "certain-closer",
    "outputId": "5db25945-872c-47db-f97d-0c0055b4a7ed"
   },
   "outputs": [
    {
     "data": {
      "text/plain": [
       "array([[-0.2848426 , -0.85647182,  1.00179143,  0.53070162, -0.06773869,\n",
       "         0.90903503, -0.24047708, -0.50122179]])"
      ]
     },
     "metadata": {},
     "output_type": "display_data"
    },
    {
     "data": {
      "text/plain": [
       "Cement (component 1)(kg in a m^3 mixture)               -0.930736\n",
       "Blast Furnace Slag (component 2)(kg in a m^3 mixture)    0.564494\n",
       "Fly Ash (component 3)(kg in a m^3 mixture)              -0.846733\n",
       "Water  (component 4)(kg in a m^3 mixture)                1.027091\n",
       "Superplasticizer (component 5)(kg in a m^3 mixture)     -1.038638\n",
       "Coarse Aggregate  (component 6)(kg in a m^3 mixture)    -0.176440\n",
       "Fine Aggregate (component 7)(kg in a m^3 mixture)        0.329519\n",
       "Age (day)                                               -0.675355\n",
       "Name: 651, dtype: float64"
      ]
     },
     "metadata": {},
     "output_type": "display_data"
    }
   ],
   "source": [
    "c=np.array(test_data.iloc[12])\n",
    "a=c.reshape(1,8)\n",
    "display(a)\n",
    "display(test_data.iloc[25])"
   ]
  },
  {
   "cell_type": "code",
   "execution_count": 16,
   "id": "relevant-insight",
   "metadata": {
    "colab": {
     "base_uri": "https://localhost:8080/"
    },
    "id": "german-artwork",
    "outputId": "605d32fb-5591-40ef-cc4e-9568e9ff0966"
   },
   "outputs": [
    {
     "data": {
      "text/plain": [
       "Concrete compressive strength(MPa, megapascals)    -0.90316\n",
       "Name: 431, dtype: float64"
      ]
     },
     "execution_count": 16,
     "metadata": {},
     "output_type": "execute_result"
    }
   ],
   "source": [
    "test_targets.iloc[12]"
   ]
  },
  {
   "cell_type": "code",
   "execution_count": 17,
   "id": "complicated-split",
   "metadata": {
    "colab": {
     "base_uri": "https://localhost:8080/"
    },
    "id": "demographic-newspaper",
    "outputId": "3381db5b-da08-40bc-ccf2-687fc8bc58a8"
   },
   "outputs": [
    {
     "data": {
      "text/plain": [
       "array([[-0.9403729]], dtype=float32)"
      ]
     },
     "execution_count": 17,
     "metadata": {},
     "output_type": "execute_result"
    }
   ],
   "source": [
    "model.predict(a)"
   ]
  },
  {
   "cell_type": "code",
   "execution_count": null,
   "id": "infectious-sight",
   "metadata": {
    "id": "described-bacon"
   },
   "outputs": [],
   "source": []
  },
  {
   "cell_type": "code",
   "execution_count": null,
   "id": "heavy-medicare",
   "metadata": {
    "id": "X5y7PhDkUhpj"
   },
   "outputs": [],
   "source": []
  },
  {
   "cell_type": "code",
   "execution_count": null,
   "id": "handed-precipitation",
   "metadata": {
    "id": "8QrbO1KPUkxI"
   },
   "outputs": [],
   "source": []
  },
  {
   "cell_type": "code",
   "execution_count": null,
   "id": "recorded-palestine",
   "metadata": {
    "id": "aohu8lieUoE-"
   },
   "outputs": [],
   "source": []
  }
 ],
 "metadata": {
  "colab": {
   "collapsed_sections": [],
   "name": "Copycomplete.ipynb",
   "provenance": []
  },
  "kernelspec": {
   "display_name": "Python 3",
   "language": "python",
   "name": "python3"
  },
  "language_info": {
   "codemirror_mode": {
    "name": "ipython",
    "version": 3
   },
   "file_extension": ".py",
   "mimetype": "text/x-python",
   "name": "python",
   "nbconvert_exporter": "python",
   "pygments_lexer": "ipython3",
   "version": "3.8.8"
  }
 },
 "nbformat": 4,
 "nbformat_minor": 5
}
