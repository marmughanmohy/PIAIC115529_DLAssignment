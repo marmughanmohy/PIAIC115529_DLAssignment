{
  "nbformat": 4,
  "nbformat_minor": 5,
  "metadata": {
    "kernelspec": {
      "display_name": "Python 3",
      "language": "python",
      "name": "python3"
    },
    "language_info": {
      "codemirror_mode": {
        "name": "ipython",
        "version": 3
      },
      "file_extension": ".py",
      "mimetype": "text/x-python",
      "name": "python",
      "nbconvert_exporter": "python",
      "pygments_lexer": "ipython3",
      "version": "3.8.8"
    },
    "colab": {
      "name": "testcarprice.ipynb",
      "provenance": [],
      "collapsed_sections": []
    }
  },
  "cells": [
    {
      "cell_type": "code",
      "metadata": {
        "id": "quality-judgment"
      },
      "source": [
        "import pandas as pd\n",
        "import numpy as np"
      ],
      "id": "quality-judgment",
      "execution_count": 1,
      "outputs": []
    },
    {
      "cell_type": "code",
      "metadata": {
        "id": "perfect-venice"
      },
      "source": [
        "df = pd.read_csv('CarPrice_Assignment.csv')"
      ],
      "id": "perfect-venice",
      "execution_count": 2,
      "outputs": []
    },
    {
      "cell_type": "code",
      "metadata": {
        "id": "lyric-bicycle"
      },
      "source": [
        "df=df.set_index('car_ID')"
      ],
      "id": "lyric-bicycle",
      "execution_count": 3,
      "outputs": []
    },
    {
      "cell_type": "code",
      "metadata": {
        "id": "european-printer"
      },
      "source": [
        "df[\"CarName\"] = df[\"CarName\"].factorize()[0]\n",
        "df[\"aspiration\"] = df[\"aspiration\"].factorize()[0]\n",
        "df[\"doornumber\"] = df[\"doornumber\"].factorize()[0]\n",
        "df[\"carbody\"] = df[\"carbody\"].factorize()[0]\n",
        "df[\"drivewheel\"] = df[\"drivewheel\"].factorize()[0]\n",
        "df[\"enginelocation\"] = df[\"enginelocation\"].factorize()[0]\n",
        "df[\"fueltype\"] = df[\"fueltype\"].factorize()[0]\n",
        "df[\"enginetype\"] = df[\"enginetype\"].factorize()[0]\n",
        "df[\"fuelsystem\"] = df[\"fuelsystem\"].factorize()[0]\n",
        "df[\"cylindernumber\"] = df[\"cylindernumber\"].factorize()[0]"
      ],
      "id": "european-printer",
      "execution_count": 4,
      "outputs": []
    },
    {
      "cell_type": "code",
      "metadata": {
        "id": "biblical-borough"
      },
      "source": [
        "data=df.astype('float')"
      ],
      "id": "biblical-borough",
      "execution_count": 5,
      "outputs": []
    },
    {
      "cell_type": "code",
      "metadata": {
        "colab": {
          "base_uri": "https://localhost:8080/",
          "height": 470
        },
        "id": "verified-shore",
        "outputId": "69f5109e-4a1b-48ce-81ac-7dd55da30ae3"
      },
      "source": [
        "mean=data.mean(axis=0)\n",
        "data= data-mean\n",
        "std=data.std(axis=0)\n",
        "data=data/std\n",
        "display(data)"
      ],
      "id": "verified-shore",
      "execution_count": 6,
      "outputs": [
        {
          "output_type": "display_data",
          "data": {
            "text/html": [
              "<div>\n",
              "<style scoped>\n",
              "    .dataframe tbody tr th:only-of-type {\n",
              "        vertical-align: middle;\n",
              "    }\n",
              "\n",
              "    .dataframe tbody tr th {\n",
              "        vertical-align: top;\n",
              "    }\n",
              "\n",
              "    .dataframe thead th {\n",
              "        text-align: right;\n",
              "    }\n",
              "</style>\n",
              "<table border=\"1\" class=\"dataframe\">\n",
              "  <thead>\n",
              "    <tr style=\"text-align: right;\">\n",
              "      <th></th>\n",
              "      <th>symboling</th>\n",
              "      <th>CarName</th>\n",
              "      <th>fueltype</th>\n",
              "      <th>aspiration</th>\n",
              "      <th>doornumber</th>\n",
              "      <th>carbody</th>\n",
              "      <th>drivewheel</th>\n",
              "      <th>enginelocation</th>\n",
              "      <th>wheelbase</th>\n",
              "      <th>carlength</th>\n",
              "      <th>carwidth</th>\n",
              "      <th>carheight</th>\n",
              "      <th>curbweight</th>\n",
              "      <th>enginetype</th>\n",
              "      <th>cylindernumber</th>\n",
              "      <th>enginesize</th>\n",
              "      <th>fuelsystem</th>\n",
              "      <th>boreratio</th>\n",
              "      <th>stroke</th>\n",
              "      <th>compressionratio</th>\n",
              "      <th>horsepower</th>\n",
              "      <th>peakrpm</th>\n",
              "      <th>citympg</th>\n",
              "      <th>highwaympg</th>\n",
              "      <th>price</th>\n",
              "    </tr>\n",
              "    <tr>\n",
              "      <th>car_ID</th>\n",
              "      <th></th>\n",
              "      <th></th>\n",
              "      <th></th>\n",
              "      <th></th>\n",
              "      <th></th>\n",
              "      <th></th>\n",
              "      <th></th>\n",
              "      <th></th>\n",
              "      <th></th>\n",
              "      <th></th>\n",
              "      <th></th>\n",
              "      <th></th>\n",
              "      <th></th>\n",
              "      <th></th>\n",
              "      <th></th>\n",
              "      <th></th>\n",
              "      <th></th>\n",
              "      <th></th>\n",
              "      <th></th>\n",
              "      <th></th>\n",
              "      <th></th>\n",
              "      <th></th>\n",
              "      <th></th>\n",
              "      <th></th>\n",
              "      <th></th>\n",
              "    </tr>\n",
              "  </thead>\n",
              "  <tbody>\n",
              "    <tr>\n",
              "      <th>1</th>\n",
              "      <td>1.739213</td>\n",
              "      <td>-1.848989</td>\n",
              "      <td>-0.327995</td>\n",
              "      <td>-0.468149</td>\n",
              "      <td>-1.127628</td>\n",
              "      <td>-2.151411</td>\n",
              "      <td>-1.210367</td>\n",
              "      <td>-0.121569</td>\n",
              "      <td>-1.686643</td>\n",
              "      <td>-0.425480</td>\n",
              "      <td>-0.842719</td>\n",
              "      <td>-2.015483</td>\n",
              "      <td>-0.014531</td>\n",
              "      <td>-2.008839</td>\n",
              "      <td>-0.400385</td>\n",
              "      <td>0.074267</td>\n",
              "      <td>-0.676727</td>\n",
              "      <td>0.517804</td>\n",
              "      <td>-1.834886</td>\n",
              "      <td>-0.287645</td>\n",
              "      <td>0.174057</td>\n",
              "      <td>-0.262318</td>\n",
              "      <td>-0.644974</td>\n",
              "      <td>-0.544725</td>\n",
              "      <td>0.027324</td>\n",
              "    </tr>\n",
              "    <tr>\n",
              "      <th>2</th>\n",
              "      <td>1.739213</td>\n",
              "      <td>-1.824803</td>\n",
              "      <td>-0.327995</td>\n",
              "      <td>-0.468149</td>\n",
              "      <td>-1.127628</td>\n",
              "      <td>-2.151411</td>\n",
              "      <td>-1.210367</td>\n",
              "      <td>-0.121569</td>\n",
              "      <td>-1.686643</td>\n",
              "      <td>-0.425480</td>\n",
              "      <td>-0.842719</td>\n",
              "      <td>-2.015483</td>\n",
              "      <td>-0.014531</td>\n",
              "      <td>-2.008839</td>\n",
              "      <td>-0.400385</td>\n",
              "      <td>0.074267</td>\n",
              "      <td>-0.676727</td>\n",
              "      <td>0.517804</td>\n",
              "      <td>-1.834886</td>\n",
              "      <td>-0.287645</td>\n",
              "      <td>0.174057</td>\n",
              "      <td>-0.262318</td>\n",
              "      <td>-0.644974</td>\n",
              "      <td>-0.544725</td>\n",
              "      <td>0.403473</td>\n",
              "    </tr>\n",
              "    <tr>\n",
              "      <th>3</th>\n",
              "      <td>0.133183</td>\n",
              "      <td>-1.800617</td>\n",
              "      <td>-0.327995</td>\n",
              "      <td>-0.468149</td>\n",
              "      <td>-1.127628</td>\n",
              "      <td>-0.956183</td>\n",
              "      <td>-1.210367</td>\n",
              "      <td>-0.121569</td>\n",
              "      <td>-0.706865</td>\n",
              "      <td>-0.230948</td>\n",
              "      <td>-0.190101</td>\n",
              "      <td>-0.542200</td>\n",
              "      <td>0.513625</td>\n",
              "      <td>-1.077137</td>\n",
              "      <td>0.396498</td>\n",
              "      <td>0.602571</td>\n",
              "      <td>-0.676727</td>\n",
              "      <td>-2.399008</td>\n",
              "      <td>0.684271</td>\n",
              "      <td>-0.287645</td>\n",
              "      <td>1.261448</td>\n",
              "      <td>-0.262318</td>\n",
              "      <td>-0.950684</td>\n",
              "      <td>-0.689938</td>\n",
              "      <td>0.403473</td>\n",
              "    </tr>\n",
              "    <tr>\n",
              "      <th>4</th>\n",
              "      <td>0.936198</td>\n",
              "      <td>-1.776431</td>\n",
              "      <td>-0.327995</td>\n",
              "      <td>-0.468149</td>\n",
              "      <td>0.882491</td>\n",
              "      <td>0.239046</td>\n",
              "      <td>0.587642</td>\n",
              "      <td>-0.121569</td>\n",
              "      <td>0.173274</td>\n",
              "      <td>0.206750</td>\n",
              "      <td>0.136209</td>\n",
              "      <td>0.235366</td>\n",
              "      <td>-0.419770</td>\n",
              "      <td>-0.145436</td>\n",
              "      <td>-0.400385</td>\n",
              "      <td>-0.430023</td>\n",
              "      <td>-0.676727</td>\n",
              "      <td>-0.516003</td>\n",
              "      <td>0.461055</td>\n",
              "      <td>-0.035885</td>\n",
              "      <td>-0.053537</td>\n",
              "      <td>0.785932</td>\n",
              "      <td>-0.186409</td>\n",
              "      <td>-0.109087</td>\n",
              "      <td>0.084279</td>\n",
              "    </tr>\n",
              "    <tr>\n",
              "      <th>5</th>\n",
              "      <td>0.936198</td>\n",
              "      <td>-1.752245</td>\n",
              "      <td>-0.327995</td>\n",
              "      <td>-0.468149</td>\n",
              "      <td>0.882491</td>\n",
              "      <td>0.239046</td>\n",
              "      <td>2.385652</td>\n",
              "      <td>-0.121569</td>\n",
              "      <td>0.106848</td>\n",
              "      <td>0.206750</td>\n",
              "      <td>0.229440</td>\n",
              "      <td>0.235366</td>\n",
              "      <td>0.515545</td>\n",
              "      <td>-0.145436</td>\n",
              "      <td>1.193380</td>\n",
              "      <td>0.218350</td>\n",
              "      <td>-0.676727</td>\n",
              "      <td>-0.516003</td>\n",
              "      <td>0.461055</td>\n",
              "      <td>-0.539405</td>\n",
              "      <td>0.275209</td>\n",
              "      <td>0.785932</td>\n",
              "      <td>-1.103540</td>\n",
              "      <td>-1.270789</td>\n",
              "      <td>0.522389</td>\n",
              "    </tr>\n",
              "    <tr>\n",
              "      <th>...</th>\n",
              "      <td>...</td>\n",
              "      <td>...</td>\n",
              "      <td>...</td>\n",
              "      <td>...</td>\n",
              "      <td>...</td>\n",
              "      <td>...</td>\n",
              "      <td>...</td>\n",
              "      <td>...</td>\n",
              "      <td>...</td>\n",
              "      <td>...</td>\n",
              "      <td>...</td>\n",
              "      <td>...</td>\n",
              "      <td>...</td>\n",
              "      <td>...</td>\n",
              "      <td>...</td>\n",
              "      <td>...</td>\n",
              "      <td>...</td>\n",
              "      <td>...</td>\n",
              "      <td>...</td>\n",
              "      <td>...</td>\n",
              "      <td>...</td>\n",
              "      <td>...</td>\n",
              "      <td>...</td>\n",
              "      <td>...</td>\n",
              "      <td>...</td>\n",
              "    </tr>\n",
              "    <tr>\n",
              "      <th>201</th>\n",
              "      <td>-1.472847</td>\n",
              "      <td>1.537049</td>\n",
              "      <td>-0.327995</td>\n",
              "      <td>-0.468149</td>\n",
              "      <td>0.882491</td>\n",
              "      <td>0.239046</td>\n",
              "      <td>-1.210367</td>\n",
              "      <td>-0.121569</td>\n",
              "      <td>1.717669</td>\n",
              "      <td>1.195622</td>\n",
              "      <td>1.394830</td>\n",
              "      <td>0.726460</td>\n",
              "      <td>0.761377</td>\n",
              "      <td>-0.145436</td>\n",
              "      <td>-0.400385</td>\n",
              "      <td>0.338419</td>\n",
              "      <td>-0.676727</td>\n",
              "      <td>1.662375</td>\n",
              "      <td>-0.336147</td>\n",
              "      <td>-0.161765</td>\n",
              "      <td>0.249921</td>\n",
              "      <td>0.576282</td>\n",
              "      <td>-0.339264</td>\n",
              "      <td>-0.399512</td>\n",
              "      <td>0.446659</td>\n",
              "    </tr>\n",
              "    <tr>\n",
              "      <th>202</th>\n",
              "      <td>-1.472847</td>\n",
              "      <td>1.561235</td>\n",
              "      <td>-0.327995</td>\n",
              "      <td>2.125651</td>\n",
              "      <td>0.882491</td>\n",
              "      <td>0.239046</td>\n",
              "      <td>-1.210367</td>\n",
              "      <td>-0.121569</td>\n",
              "      <td>1.717669</td>\n",
              "      <td>1.195622</td>\n",
              "      <td>1.348215</td>\n",
              "      <td>0.726460</td>\n",
              "      <td>0.947672</td>\n",
              "      <td>-0.145436</td>\n",
              "      <td>-0.400385</td>\n",
              "      <td>0.338419</td>\n",
              "      <td>-0.676727</td>\n",
              "      <td>1.662375</td>\n",
              "      <td>-0.336147</td>\n",
              "      <td>-0.363173</td>\n",
              "      <td>1.413178</td>\n",
              "      <td>0.366632</td>\n",
              "      <td>-0.950684</td>\n",
              "      <td>-0.835151</td>\n",
              "      <td>0.722042</td>\n",
              "    </tr>\n",
              "    <tr>\n",
              "      <th>203</th>\n",
              "      <td>-1.472847</td>\n",
              "      <td>1.585421</td>\n",
              "      <td>-0.327995</td>\n",
              "      <td>-0.468149</td>\n",
              "      <td>0.882491</td>\n",
              "      <td>0.239046</td>\n",
              "      <td>-1.210367</td>\n",
              "      <td>-0.121569</td>\n",
              "      <td>1.717669</td>\n",
              "      <td>1.195622</td>\n",
              "      <td>1.394830</td>\n",
              "      <td>0.726460</td>\n",
              "      <td>0.876611</td>\n",
              "      <td>-1.077137</td>\n",
              "      <td>0.396498</td>\n",
              "      <td>1.106861</td>\n",
              "      <td>-0.676727</td>\n",
              "      <td>0.923942</td>\n",
              "      <td>-1.229012</td>\n",
              "      <td>-0.337997</td>\n",
              "      <td>0.755685</td>\n",
              "      <td>0.785932</td>\n",
              "      <td>-1.103540</td>\n",
              "      <td>-1.125577</td>\n",
              "      <td>1.027468</td>\n",
              "    </tr>\n",
              "    <tr>\n",
              "      <th>204</th>\n",
              "      <td>-1.472847</td>\n",
              "      <td>1.682165</td>\n",
              "      <td>3.033954</td>\n",
              "      <td>2.125651</td>\n",
              "      <td>0.882491</td>\n",
              "      <td>0.239046</td>\n",
              "      <td>-1.210367</td>\n",
              "      <td>-0.121569</td>\n",
              "      <td>1.717669</td>\n",
              "      <td>1.195622</td>\n",
              "      <td>1.394830</td>\n",
              "      <td>0.726460</td>\n",
              "      <td>1.270327</td>\n",
              "      <td>-0.145436</td>\n",
              "      <td>0.396498</td>\n",
              "      <td>0.434474</td>\n",
              "      <td>2.070383</td>\n",
              "      <td>-1.180593</td>\n",
              "      <td>0.461055</td>\n",
              "      <td>3.236992</td>\n",
              "      <td>0.047616</td>\n",
              "      <td>-0.681618</td>\n",
              "      <td>0.119302</td>\n",
              "      <td>-0.544725</td>\n",
              "      <td>1.150765</td>\n",
              "    </tr>\n",
              "    <tr>\n",
              "      <th>205</th>\n",
              "      <td>-1.472847</td>\n",
              "      <td>1.633793</td>\n",
              "      <td>-0.327995</td>\n",
              "      <td>2.125651</td>\n",
              "      <td>0.882491</td>\n",
              "      <td>0.239046</td>\n",
              "      <td>-1.210367</td>\n",
              "      <td>-0.121569</td>\n",
              "      <td>1.717669</td>\n",
              "      <td>1.195622</td>\n",
              "      <td>1.394830</td>\n",
              "      <td>0.726460</td>\n",
              "      <td>0.972640</td>\n",
              "      <td>-0.145436</td>\n",
              "      <td>-0.400385</td>\n",
              "      <td>0.338419</td>\n",
              "      <td>-0.676727</td>\n",
              "      <td>1.662375</td>\n",
              "      <td>-0.336147</td>\n",
              "      <td>-0.161765</td>\n",
              "      <td>0.249921</td>\n",
              "      <td>0.576282</td>\n",
              "      <td>-0.950684</td>\n",
              "      <td>-0.835151</td>\n",
              "      <td>1.170167</td>\n",
              "    </tr>\n",
              "  </tbody>\n",
              "</table>\n",
              "<p>205 rows × 25 columns</p>\n",
              "</div>"
            ],
            "text/plain": [
              "        symboling   CarName  fueltype  ...   citympg  highwaympg     price\n",
              "car_ID                                 ...                                \n",
              "1        1.739213 -1.848989 -0.327995  ... -0.644974   -0.544725  0.027324\n",
              "2        1.739213 -1.824803 -0.327995  ... -0.644974   -0.544725  0.403473\n",
              "3        0.133183 -1.800617 -0.327995  ... -0.950684   -0.689938  0.403473\n",
              "4        0.936198 -1.776431 -0.327995  ... -0.186409   -0.109087  0.084279\n",
              "5        0.936198 -1.752245 -0.327995  ... -1.103540   -1.270789  0.522389\n",
              "...           ...       ...       ...  ...       ...         ...       ...\n",
              "201     -1.472847  1.537049 -0.327995  ... -0.339264   -0.399512  0.446659\n",
              "202     -1.472847  1.561235 -0.327995  ... -0.950684   -0.835151  0.722042\n",
              "203     -1.472847  1.585421 -0.327995  ... -1.103540   -1.125577  1.027468\n",
              "204     -1.472847  1.682165  3.033954  ...  0.119302   -0.544725  1.150765\n",
              "205     -1.472847  1.633793 -0.327995  ... -0.950684   -0.835151  1.170167\n",
              "\n",
              "[205 rows x 25 columns]"
            ]
          },
          "metadata": {
            "tags": []
          }
        }
      ]
    },
    {
      "cell_type": "code",
      "metadata": {
        "id": "forced-domain"
      },
      "source": [
        "train_data=data[0:103]\n",
        "train_targets=train_data.iloc[0:103,[24]]\n",
        "train_data=train_data.drop([\"price\"],axis=1)"
      ],
      "id": "forced-domain",
      "execution_count": 7,
      "outputs": []
    },
    {
      "cell_type": "code",
      "metadata": {
        "id": "herbal-james"
      },
      "source": [
        "test_data=data[103:165]\n",
        "test_targets=test_data.iloc[0:65,[24]]\n",
        "test_data=test_data.drop([\"price\"],axis=1)"
      ],
      "id": "herbal-james",
      "execution_count": 8,
      "outputs": []
    },
    {
      "cell_type": "code",
      "metadata": {
        "id": "guilty-maximum"
      },
      "source": [
        "val_data1=data[165:205]\n",
        "val_target1=val_data1.iloc[0:41,[24]]\n",
        "val_data1=val_data1.drop([\"price\"],axis=1)\n",
        "val_data1=val_data1.drop([\"CarName\"],axis=1)"
      ],
      "id": "guilty-maximum",
      "execution_count": 9,
      "outputs": []
    },
    {
      "cell_type": "code",
      "metadata": {
        "id": "acknowledged-completion"
      },
      "source": [
        "from keras import models\n",
        "from keras import layers\n",
        "def build_model():\n",
        "    model = models.Sequential()\n",
        "    model.add(layers.Dense(10, activation='relu',\n",
        "    input_shape=(train_data.shape[1],)))\n",
        "    model.add(layers.Dense(8, activation='relu'))\n",
        "    model.add(layers.Dense(7, activation='relu'))\n",
        "    model.add(layers.Dense(1))\n",
        "    model.compile(optimizer='rmsprop', loss='mse', metrics=['mae'])\n",
        "    return model"
      ],
      "id": "acknowledged-completion",
      "execution_count": 41,
      "outputs": []
    },
    {
      "cell_type": "code",
      "metadata": {
        "id": "adequate-girlfriend"
      },
      "source": [
        "train_data=data[0:165] \n",
        "train_targets=train_data.iloc[0:165,[24]] \n",
        "train_data=train_data.drop([\"price\"],axis=1)\n",
        "train_data=train_data.drop([\"CarName\"],axis=1)"
      ],
      "id": "adequate-girlfriend",
      "execution_count": 42,
      "outputs": []
    },
    {
      "cell_type": "code",
      "metadata": {
        "colab": {
          "base_uri": "https://localhost:8080/"
        },
        "id": "empty-subdivision",
        "outputId": "e46f04a0-67d8-4268-a85c-49d02364a0fb"
      },
      "source": [
        "k = 4\n",
        "num_val_samples = len(train_data) // k\n",
        "num_epochs = 100\n",
        "all_mae_histories = []\n",
        "for i in range(k):\n",
        "    print('processing fold #', i)\n",
        "    val_data = train_data[i * num_val_samples: (i + 1) * num_val_samples]\n",
        "    val_targets = train_targets[i * num_val_samples: (i + 1) * num_val_samples]\n",
        "    partial_train_data = np.concatenate([train_data[:i * num_val_samples],train_data[(i + 1) * num_val_samples:]],axis=0)\n",
        "    partial_train_targets = np.concatenate([train_targets[:i * num_val_samples],train_targets[(i + 1) * num_val_samples:]],axis=0)\n",
        "    model = build_model()\n",
        "    history = model.fit(partial_train_data, partial_train_targets,validation_data=(val_data, val_targets),epochs=num_epochs, batch_size=1, verbose=0)\n",
        "    mae_history = history.history['mae']\n",
        "    all_mae_histories.append(mae_history)"
      ],
      "id": "empty-subdivision",
      "execution_count": 43,
      "outputs": [
        {
          "output_type": "stream",
          "text": [
            "processing fold # 0\n",
            "processing fold # 1\n",
            "processing fold # 2\n",
            "processing fold # 3\n"
          ],
          "name": "stdout"
        }
      ]
    },
    {
      "cell_type": "code",
      "metadata": {
        "id": "essential-spanish"
      },
      "source": [
        "average_mae_history = [np.mean([x[i] for x in all_mae_histories]) for i in range(num_epochs)]"
      ],
      "id": "essential-spanish",
      "execution_count": 44,
      "outputs": []
    },
    {
      "cell_type": "code",
      "metadata": {
        "colab": {
          "base_uri": "https://localhost:8080/",
          "height": 282
        },
        "id": "pursuant-interstate",
        "outputId": "cea3bdb6-271d-42b2-e971-afbe60c11477"
      },
      "source": [
        "import matplotlib.pyplot as plt\n",
        "plt.plot(range(1, len(average_mae_history) + 1), average_mae_history)\n",
        "plt.xlabel('Epochs')\n",
        "plt.ylabel('Validation MAE')\n",
        "plt.show()"
      ],
      "id": "pursuant-interstate",
      "execution_count": 45,
      "outputs": [
        {
          "output_type": "display_data",
          "data": {
            "image/png": "[encoded data removed]",
            "text/plain": [
              "<Figure size 432x288 with 1 Axes>"
            ]
          },
          "metadata": {
            "tags": [],
            "needs_background": "light"
          }
        }
      ]
    },
    {
      "cell_type": "code",
      "metadata": {
        "colab": {
          "base_uri": "https://localhost:8080/"
        },
        "id": "rotary-trigger",
        "outputId": "f12a7f74-e7bf-44d8-b174-2d127752124c"
      },
      "source": [
        "model = build_model()\n",
        "model.fit(train_data, train_targets,\n",
        "epochs=num_epochs, batch_size=1, verbose=0)\n",
        "test_mse_score, test_mae_score = model.evaluate(val_data1, val_target1)"
      ],
      "id": "rotary-trigger",
      "execution_count": 46,
      "outputs": [
        {
          "output_type": "stream",
          "text": [
            "2/2 [==============================] - 0s 5ms/step - loss: 0.2245 - mae: 0.3499\n"
          ],
          "name": "stdout"
        }
      ]
    },
    {
      "cell_type": "code",
      "metadata": {
        "colab": {
          "base_uri": "https://localhost:8080/",
          "height": 510
        },
        "id": "consolidated-regulation",
        "outputId": "82824857-0e7d-471a-da81-038c63509d80"
      },
      "source": [
        "c=np.array(val_data1.iloc[17])\n",
        "a=c.reshape(1,23)\n",
        "display(a)\n",
        "display(val_data1.iloc[2])"
      ],
      "id": "consolidated-regulation",
      "execution_count": 53,
      "outputs": [
        {
          "output_type": "display_data",
          "data": {
            "text/plain": [
              "array([[ 0.93619792,  3.03395419, -0.4681493 , -1.12762792,  0.23904572,\n",
              "         0.58764217, -0.12156907, -0.24188635, -0.19042015, -0.19010076,\n",
              "         0.80830947, -0.56573277, -0.14543628, -0.40038491, -0.71818883,\n",
              "         2.07038347, -1.18059269,  0.46105466,  3.23699217, -1.31794592,\n",
              "        -0.6816179 ,  1.80070815,  2.2143188 ]])"
            ]
          },
          "metadata": {
            "tags": []
          }
        },
        {
          "output_type": "display_data",
          "data": {
            "text/plain": [
              "symboling           0.936198\n",
              "fueltype           -0.327995\n",
              "aspiration         -0.468149\n",
              "doornumber         -1.127628\n",
              "carbody             2.629503\n",
              "drivewheel         -1.210367\n",
              "enginelocation     -0.121569\n",
              "wheelbase          -0.059216\n",
              "carlength           0.174328\n",
              "carwidth           -0.143485\n",
              "carheight          -0.705898\n",
              "curbweight         -0.029895\n",
              "enginetype         -0.145436\n",
              "cylindernumber     -0.400385\n",
              "enginesize          0.458488\n",
              "fuelsystem         -0.676727\n",
              "boreratio           1.071629\n",
              "stroke              0.779935\n",
              "compressionratio   -0.212117\n",
              "horsepower          0.300498\n",
              "peakrpm            -0.681618\n",
              "citympg            -0.186409\n",
              "highwaympg         -0.109087\n",
              "Name: 168, dtype: float64"
            ]
          },
          "metadata": {
            "tags": []
          }
        }
      ]
    },
    {
      "cell_type": "code",
      "metadata": {
        "colab": {
          "base_uri": "https://localhost:8080/"
        },
        "id": "early-therapist",
        "outputId": "649026ee-ddb9-4c72-dbbe-c6a9172c5552"
      },
      "source": [
        "val_target1.iloc[17]"
      ],
      "id": "early-therapist",
      "execution_count": 54,
      "outputs": [
        {
          "output_type": "execute_result",
          "data": {
            "text/plain": [
              "price   -0.688673\n",
              "Name: 183, dtype: float64"
            ]
          },
          "metadata": {
            "tags": []
          },
          "execution_count": 54
        }
      ]
    },
    {
      "cell_type": "code",
      "metadata": {
        "colab": {
          "base_uri": "https://localhost:8080/"
        },
        "id": "rolled-dictionary",
        "outputId": "8faec635-a646-4a42-e927-68b8a5916e23"
      },
      "source": [
        "model.predict(a)"
      ],
      "id": "rolled-dictionary",
      "execution_count": 55,
      "outputs": [
        {
          "output_type": "execute_result",
          "data": {
            "text/plain": [
              "array([[-0.89986485]], dtype=float32)"
            ]
          },
          "metadata": {
            "tags": []
          },
          "execution_count": 55
        }
      ]
    },
    {
      "cell_type": "code",
      "metadata": {
        "id": "fancy-prague"
      },
      "source": [
        ""
      ],
      "id": "fancy-prague",
      "execution_count": 18,
      "outputs": []
    }
  ]
}